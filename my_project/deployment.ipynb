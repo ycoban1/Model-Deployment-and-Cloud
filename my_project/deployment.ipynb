{
 "cells": [
  {
   "cell_type": "code",
   "execution_count": 2,
   "metadata": {
    "executionInfo": {
     "elapsed": 1704,
     "status": "ok",
     "timestamp": 1606731504328,
     "user": {
      "displayName": "Richard C",
      "photoUrl": "",
      "userId": "08040814671867660929"
     },
     "user_tz": -180
    },
    "id": "sy5EcZ65lzy-"
   },
   "outputs": [],
   "source": [
    "import pandas as pd      \n",
    "import numpy as np \n",
    "from sklearn.metrics import mean_squared_error, mean_absolute_error, r2_score\n",
    "from sklearn.model_selection import train_test_split\n",
    "import warnings\n",
    "warnings.filterwarnings('ignore')\n",
    "import xgboost"
   ]
  },
  {
   "cell_type": "code",
   "execution_count": 3,
   "metadata": {},
   "outputs": [],
   "source": [
    "#pip list"
   ]
  },
  {
   "cell_type": "code",
   "execution_count": 4,
   "metadata": {
    "executionInfo": {
     "elapsed": 825,
     "status": "ok",
     "timestamp": 1606731524112,
     "user": {
      "displayName": "Richard C",
      "photoUrl": "",
      "userId": "08040814671867660929"
     },
     "user_tz": -180
    },
    "id": "-AJL3lU-lzzA"
   },
   "outputs": [],
   "source": [
    "def eval_metrics(actual, pred):\n",
    "    rmse = np.sqrt(mean_squared_error(actual, pred))\n",
    "    mae = mean_absolute_error(actual, pred)\n",
    "    mse = mean_squared_error(actual, pred)\n",
    "    score = r2_score(actual, pred)\n",
    "    return print(\"r2_score:\", score, \"\\n\",\"mae:\", mae, \"\\n\",\"mse:\",mse, \"\\n\",\"rmse:\",rmse)"
   ]
  },
  {
   "cell_type": "code",
   "execution_count": 5,
   "metadata": {},
   "outputs": [
    {
     "data": {
      "text/plain": [
       "'c:\\\\Users\\\\HP\\\\Desktop\\\\project_solution2'"
      ]
     },
     "execution_count": 5,
     "metadata": {},
     "output_type": "execute_result"
    }
   ],
   "source": [
    "pwd"
   ]
  },
  {
   "cell_type": "code",
   "execution_count": 6,
   "metadata": {},
   "outputs": [],
   "source": [
    "df=pd.read_pickle(\"C:\\\\Users\\\\HP\\\\Desktop\\\\data\\\\32_second_notebook\\\\richard_inclass\\\\1_regresyon_inclass\\\\actual_in_class\\\\regresyon_proje\\\\golden_data_not_dummy.pkl\")\n",
    "pd.set_option('display.max_columns', None)"
   ]
  },
  {
   "cell_type": "code",
   "execution_count": 7,
   "metadata": {},
   "outputs": [
    {
     "data": {
      "text/html": [
       "<div>\n",
       "<style scoped>\n",
       "    .dataframe tbody tr th:only-of-type {\n",
       "        vertical-align: middle;\n",
       "    }\n",
       "\n",
       "    .dataframe tbody tr th {\n",
       "        vertical-align: top;\n",
       "    }\n",
       "\n",
       "    .dataframe thead th {\n",
       "        text-align: right;\n",
       "    }\n",
       "</style>\n",
       "<table border=\"1\" class=\"dataframe\">\n",
       "  <thead>\n",
       "    <tr style=\"text-align: right;\">\n",
       "      <th></th>\n",
       "      <th>displacement</th>\n",
       "      <th>make</th>\n",
       "      <th>model</th>\n",
       "      <th>hp</th>\n",
       "      <th>km</th>\n",
       "      <th>ss_abs</th>\n",
       "      <th>ss_adaptive_cruise_control</th>\n",
       "      <th>ss_adaptive_headlights</th>\n",
       "      <th>ss_alarm_system</th>\n",
       "      <th>ss_blind_spot_monitor</th>\n",
       "      <th>ss_central_door_lock</th>\n",
       "      <th>ss_central_door_lock_with_remote_control</th>\n",
       "      <th>ss_daytime_running_lights</th>\n",
       "      <th>ss_driver_drowsiness_detection</th>\n",
       "      <th>ss_driver_side_airbag</th>\n",
       "      <th>ss_electronic_stability_control</th>\n",
       "      <th>ss_emergency_brake_assistant</th>\n",
       "      <th>ss_emergency_system</th>\n",
       "      <th>ss_fog_lights</th>\n",
       "      <th>ss_head_airbag</th>\n",
       "      <th>ss_immobilizer</th>\n",
       "      <th>ss_isofix</th>\n",
       "      <th>ss_led_daytime_running_lights</th>\n",
       "      <th>ss_led_headlights</th>\n",
       "      <th>ss_lane_departure_warning_system</th>\n",
       "      <th>ss_night_view_assist</th>\n",
       "      <th>ss_passenger_side_airbag</th>\n",
       "      <th>ss_power_steering</th>\n",
       "      <th>ss_rear_airbag</th>\n",
       "      <th>ss_side_airbag</th>\n",
       "      <th>ss_tire_pressure_monitoring_system</th>\n",
       "      <th>ss_traction_control</th>\n",
       "      <th>ss_traffic_sign_recognition</th>\n",
       "      <th>ss_xenon_headlights</th>\n",
       "      <th>consumption_comb</th>\n",
       "      <th>body</th>\n",
       "      <th>body_color</th>\n",
       "      <th>gearing_type</th>\n",
       "      <th>inspection_new</th>\n",
       "      <th>price</th>\n",
       "      <th>age</th>\n",
       "      <th>ent_media_bluetooth</th>\n",
       "      <th>ent_media_cd_player</th>\n",
       "      <th>ent_media_digital_radio</th>\n",
       "      <th>ent_media_hands_free_equipment</th>\n",
       "      <th>ent_media_mp3</th>\n",
       "      <th>ent_media_on_board_computer</th>\n",
       "      <th>ent_media_radio</th>\n",
       "      <th>ent_media_sound_system</th>\n",
       "      <th>ent_media_television</th>\n",
       "      <th>ent_media_usb</th>\n",
       "      <th>fuel</th>\n",
       "      <th>nr_of_doors</th>\n",
       "      <th>nr_of_seats</th>\n",
       "      <th>type</th>\n",
       "      <th>warranty</th>\n",
       "      <th>cc_air_conditioning</th>\n",
       "      <th>cc_air_suspension</th>\n",
       "      <th>cc_armrest</th>\n",
       "      <th>cc_automatic_climate_control</th>\n",
       "      <th>cc_auxiliary_heating</th>\n",
       "      <th>cc_cruise_control</th>\n",
       "      <th>cc_electric_starter</th>\n",
       "      <th>cc_electric_tailgate</th>\n",
       "      <th>cc_electrical_side_mirrors</th>\n",
       "      <th>cc_electrically_adjustable_seats</th>\n",
       "      <th>cc_electrically_heated_windshield</th>\n",
       "      <th>cc_heads_up_display</th>\n",
       "      <th>cc_heated_steering_wheel</th>\n",
       "      <th>cc_hill_holder</th>\n",
       "      <th>cc_keyless_central_door_lock</th>\n",
       "      <th>cc_leather_seats</th>\n",
       "      <th>cc_leather_steering_wheel</th>\n",
       "      <th>cc_light_sensor</th>\n",
       "      <th>cc_lumbar_support</th>\n",
       "      <th>cc_massage_seats</th>\n",
       "      <th>cc_multi_function_steering_wheel</th>\n",
       "      <th>cc_navigation_system</th>\n",
       "      <th>cc_panorama_roof</th>\n",
       "      <th>cc_park_distance_control</th>\n",
       "      <th>cc_parking_assist_system_camera</th>\n",
       "      <th>cc_parking_assist_system_self_steering</th>\n",
       "      <th>cc_parking_assist_system_sensors_front</th>\n",
       "      <th>cc_parking_assist_system_sensors_rear</th>\n",
       "      <th>cc_power_windows</th>\n",
       "      <th>cc_rain_sensor</th>\n",
       "      <th>cc_seat_heating</th>\n",
       "      <th>cc_seat_ventilation</th>\n",
       "      <th>cc_split_rear_seats</th>\n",
       "      <th>cc_start_stop_system</th>\n",
       "      <th>cc_sunroof</th>\n",
       "      <th>cc_tinted_windows</th>\n",
       "      <th>cc_wind_deflector</th>\n",
       "      <th>cc_windshield</th>\n",
       "      <th>ext_alloy_wheels</th>\n",
       "      <th>ext_touch_screen</th>\n",
       "      <th>ext_trailer_hitch</th>\n",
       "      <th>ext_voice_control</th>\n",
       "    </tr>\n",
       "  </thead>\n",
       "  <tbody>\n",
       "    <tr>\n",
       "      <th>0</th>\n",
       "      <td>1422.0</td>\n",
       "      <td>Audi</td>\n",
       "      <td>A1</td>\n",
       "      <td>66.0</td>\n",
       "      <td>56013</td>\n",
       "      <td>1.0</td>\n",
       "      <td>0.0</td>\n",
       "      <td>0.0</td>\n",
       "      <td>0.0</td>\n",
       "      <td>0.0</td>\n",
       "      <td>1.0</td>\n",
       "      <td>0.0</td>\n",
       "      <td>1.0</td>\n",
       "      <td>0.0</td>\n",
       "      <td>1.0</td>\n",
       "      <td>1.0</td>\n",
       "      <td>0.0</td>\n",
       "      <td>0.0</td>\n",
       "      <td>1.0</td>\n",
       "      <td>0.0</td>\n",
       "      <td>1.0</td>\n",
       "      <td>1.0</td>\n",
       "      <td>0.0</td>\n",
       "      <td>0.0</td>\n",
       "      <td>0.0</td>\n",
       "      <td>0.0</td>\n",
       "      <td>1.0</td>\n",
       "      <td>1.0</td>\n",
       "      <td>0.0</td>\n",
       "      <td>1.0</td>\n",
       "      <td>1.0</td>\n",
       "      <td>1.0</td>\n",
       "      <td>0.0</td>\n",
       "      <td>1.0</td>\n",
       "      <td>3.8</td>\n",
       "      <td>Sedans</td>\n",
       "      <td>Black</td>\n",
       "      <td>Automatic</td>\n",
       "      <td>1</td>\n",
       "      <td>15770</td>\n",
       "      <td>3</td>\n",
       "      <td>1.0</td>\n",
       "      <td>0.0</td>\n",
       "      <td>0.0</td>\n",
       "      <td>1.0</td>\n",
       "      <td>0.0</td>\n",
       "      <td>1.0</td>\n",
       "      <td>1.0</td>\n",
       "      <td>0.0</td>\n",
       "      <td>0.0</td>\n",
       "      <td>0.0</td>\n",
       "      <td>diesel</td>\n",
       "      <td>5.0</td>\n",
       "      <td>5.0</td>\n",
       "      <td>Used</td>\n",
       "      <td>1</td>\n",
       "      <td>1.0</td>\n",
       "      <td>0.0</td>\n",
       "      <td>1.0</td>\n",
       "      <td>1.0</td>\n",
       "      <td>0.0</td>\n",
       "      <td>1.0</td>\n",
       "      <td>0.0</td>\n",
       "      <td>0.0</td>\n",
       "      <td>1.0</td>\n",
       "      <td>0.0</td>\n",
       "      <td>0.0</td>\n",
       "      <td>0.0</td>\n",
       "      <td>0.0</td>\n",
       "      <td>1.0</td>\n",
       "      <td>0.0</td>\n",
       "      <td>0.0</td>\n",
       "      <td>1.0</td>\n",
       "      <td>1.0</td>\n",
       "      <td>0.0</td>\n",
       "      <td>0.0</td>\n",
       "      <td>1.0</td>\n",
       "      <td>1.0</td>\n",
       "      <td>0.0</td>\n",
       "      <td>1.0</td>\n",
       "      <td>0.0</td>\n",
       "      <td>0.0</td>\n",
       "      <td>0.0</td>\n",
       "      <td>1.0</td>\n",
       "      <td>1.0</td>\n",
       "      <td>1.0</td>\n",
       "      <td>1.0</td>\n",
       "      <td>0.0</td>\n",
       "      <td>0.0</td>\n",
       "      <td>1.0</td>\n",
       "      <td>0.0</td>\n",
       "      <td>0.0</td>\n",
       "      <td>0.0</td>\n",
       "      <td>0.0</td>\n",
       "      <td>1.0</td>\n",
       "      <td>0.0</td>\n",
       "      <td>0.0</td>\n",
       "      <td>1.0</td>\n",
       "    </tr>\n",
       "  </tbody>\n",
       "</table>\n",
       "</div>"
      ],
      "text/plain": [
       "   displacement  make model    hp     km  ss_abs  ss_adaptive_cruise_control  \\\n",
       "0        1422.0  Audi    A1  66.0  56013     1.0                         0.0   \n",
       "\n",
       "   ss_adaptive_headlights  ss_alarm_system  ss_blind_spot_monitor  \\\n",
       "0                     0.0              0.0                    0.0   \n",
       "\n",
       "   ss_central_door_lock  ss_central_door_lock_with_remote_control  \\\n",
       "0                   1.0                                       0.0   \n",
       "\n",
       "   ss_daytime_running_lights  ss_driver_drowsiness_detection  \\\n",
       "0                        1.0                             0.0   \n",
       "\n",
       "   ss_driver_side_airbag  ss_electronic_stability_control  \\\n",
       "0                    1.0                              1.0   \n",
       "\n",
       "   ss_emergency_brake_assistant  ss_emergency_system  ss_fog_lights  \\\n",
       "0                           0.0                  0.0            1.0   \n",
       "\n",
       "   ss_head_airbag  ss_immobilizer  ss_isofix  ss_led_daytime_running_lights  \\\n",
       "0             0.0             1.0        1.0                            0.0   \n",
       "\n",
       "   ss_led_headlights  ss_lane_departure_warning_system  ss_night_view_assist  \\\n",
       "0                0.0                               0.0                   0.0   \n",
       "\n",
       "   ss_passenger_side_airbag  ss_power_steering  ss_rear_airbag  \\\n",
       "0                       1.0                1.0             0.0   \n",
       "\n",
       "   ss_side_airbag  ss_tire_pressure_monitoring_system  ss_traction_control  \\\n",
       "0             1.0                                 1.0                  1.0   \n",
       "\n",
       "   ss_traffic_sign_recognition  ss_xenon_headlights  consumption_comb    body  \\\n",
       "0                          0.0                  1.0               3.8  Sedans   \n",
       "\n",
       "  body_color gearing_type  inspection_new  price  age  ent_media_bluetooth  \\\n",
       "0      Black    Automatic               1  15770    3                  1.0   \n",
       "\n",
       "   ent_media_cd_player  ent_media_digital_radio  \\\n",
       "0                  0.0                      0.0   \n",
       "\n",
       "   ent_media_hands_free_equipment  ent_media_mp3  ent_media_on_board_computer  \\\n",
       "0                             1.0            0.0                          1.0   \n",
       "\n",
       "   ent_media_radio  ent_media_sound_system  ent_media_television  \\\n",
       "0              1.0                     0.0                   0.0   \n",
       "\n",
       "   ent_media_usb    fuel  nr_of_doors  nr_of_seats  type  warranty  \\\n",
       "0            0.0  diesel          5.0          5.0  Used         1   \n",
       "\n",
       "   cc_air_conditioning  cc_air_suspension  cc_armrest  \\\n",
       "0                  1.0                0.0         1.0   \n",
       "\n",
       "   cc_automatic_climate_control  cc_auxiliary_heating  cc_cruise_control  \\\n",
       "0                           1.0                   0.0                1.0   \n",
       "\n",
       "   cc_electric_starter  cc_electric_tailgate  cc_electrical_side_mirrors  \\\n",
       "0                  0.0                   0.0                         1.0   \n",
       "\n",
       "   cc_electrically_adjustable_seats  cc_electrically_heated_windshield  \\\n",
       "0                               0.0                                0.0   \n",
       "\n",
       "   cc_heads_up_display  cc_heated_steering_wheel  cc_hill_holder  \\\n",
       "0                  0.0                       0.0             1.0   \n",
       "\n",
       "   cc_keyless_central_door_lock  cc_leather_seats  cc_leather_steering_wheel  \\\n",
       "0                           0.0               0.0                        1.0   \n",
       "\n",
       "   cc_light_sensor  cc_lumbar_support  cc_massage_seats  \\\n",
       "0              1.0                0.0               0.0   \n",
       "\n",
       "   cc_multi_function_steering_wheel  cc_navigation_system  cc_panorama_roof  \\\n",
       "0                               1.0                   1.0               0.0   \n",
       "\n",
       "   cc_park_distance_control  cc_parking_assist_system_camera  \\\n",
       "0                       1.0                              0.0   \n",
       "\n",
       "   cc_parking_assist_system_self_steering  \\\n",
       "0                                     0.0   \n",
       "\n",
       "   cc_parking_assist_system_sensors_front  \\\n",
       "0                                     0.0   \n",
       "\n",
       "   cc_parking_assist_system_sensors_rear  cc_power_windows  cc_rain_sensor  \\\n",
       "0                                    1.0               1.0             1.0   \n",
       "\n",
       "   cc_seat_heating  cc_seat_ventilation  cc_split_rear_seats  \\\n",
       "0              1.0                  0.0                  0.0   \n",
       "\n",
       "   cc_start_stop_system  cc_sunroof  cc_tinted_windows  cc_wind_deflector  \\\n",
       "0                   1.0         0.0                0.0                0.0   \n",
       "\n",
       "   cc_windshield  ext_alloy_wheels  ext_touch_screen  ext_trailer_hitch  \\\n",
       "0            0.0               1.0               0.0                0.0   \n",
       "\n",
       "   ext_voice_control  \n",
       "0                1.0  "
      ]
     },
     "execution_count": 7,
     "metadata": {},
     "output_type": "execute_result"
    }
   ],
   "source": [
    "df.head(1)"
   ]
  },
  {
   "cell_type": "code",
   "execution_count": 8,
   "metadata": {
    "id": "Wq-nx6U9lzzD"
   },
   "outputs": [],
   "source": [
    "new_list=[\"age\", \"hp\", \"km\", \"model\", \"gearing_type\"]"
   ]
  },
  {
   "cell_type": "code",
   "execution_count": 9,
   "metadata": {
    "id": "ojUll31ZlzzD"
   },
   "outputs": [],
   "source": [
    "X=df[new_list]\n",
    "y=df['price']\n",
    "X=pd.get_dummies(X)"
   ]
  },
  {
   "cell_type": "code",
   "execution_count": 10,
   "metadata": {
    "id": "V7murgcWlzzD",
    "outputId": "60072f4e-26d3-4284-da4b-86f1bbf9185f"
   },
   "outputs": [
    {
     "data": {
      "text/html": [
       "<div>\n",
       "<style scoped>\n",
       "    .dataframe tbody tr th:only-of-type {\n",
       "        vertical-align: middle;\n",
       "    }\n",
       "\n",
       "    .dataframe tbody tr th {\n",
       "        vertical-align: top;\n",
       "    }\n",
       "\n",
       "    .dataframe thead th {\n",
       "        text-align: right;\n",
       "    }\n",
       "</style>\n",
       "<table border=\"1\" class=\"dataframe\">\n",
       "  <thead>\n",
       "    <tr style=\"text-align: right;\">\n",
       "      <th></th>\n",
       "      <th>age</th>\n",
       "      <th>hp</th>\n",
       "      <th>km</th>\n",
       "      <th>model_A1</th>\n",
       "      <th>model_A2</th>\n",
       "      <th>model_A3</th>\n",
       "      <th>model_Astra</th>\n",
       "      <th>model_Clio</th>\n",
       "      <th>model_Corsa</th>\n",
       "      <th>model_Espace</th>\n",
       "      <th>model_Insignia</th>\n",
       "      <th>gearing_type_Automatic</th>\n",
       "      <th>gearing_type_Manual</th>\n",
       "      <th>gearing_type_Semi-automatic</th>\n",
       "    </tr>\n",
       "  </thead>\n",
       "  <tbody>\n",
       "    <tr>\n",
       "      <th>1380</th>\n",
       "      <td>2</td>\n",
       "      <td>70.0</td>\n",
       "      <td>43881</td>\n",
       "      <td>1</td>\n",
       "      <td>0</td>\n",
       "      <td>0</td>\n",
       "      <td>0</td>\n",
       "      <td>0</td>\n",
       "      <td>0</td>\n",
       "      <td>0</td>\n",
       "      <td>0</td>\n",
       "      <td>0</td>\n",
       "      <td>1</td>\n",
       "      <td>0</td>\n",
       "    </tr>\n",
       "    <tr>\n",
       "      <th>9276</th>\n",
       "      <td>2</td>\n",
       "      <td>51.0</td>\n",
       "      <td>57000</td>\n",
       "      <td>0</td>\n",
       "      <td>0</td>\n",
       "      <td>0</td>\n",
       "      <td>0</td>\n",
       "      <td>0</td>\n",
       "      <td>1</td>\n",
       "      <td>0</td>\n",
       "      <td>0</td>\n",
       "      <td>0</td>\n",
       "      <td>1</td>\n",
       "      <td>0</td>\n",
       "    </tr>\n",
       "    <tr>\n",
       "      <th>10774</th>\n",
       "      <td>2</td>\n",
       "      <td>88.0</td>\n",
       "      <td>100000</td>\n",
       "      <td>0</td>\n",
       "      <td>0</td>\n",
       "      <td>0</td>\n",
       "      <td>0</td>\n",
       "      <td>0</td>\n",
       "      <td>0</td>\n",
       "      <td>0</td>\n",
       "      <td>1</td>\n",
       "      <td>1</td>\n",
       "      <td>0</td>\n",
       "      <td>0</td>\n",
       "    </tr>\n",
       "    <tr>\n",
       "      <th>4496</th>\n",
       "      <td>1</td>\n",
       "      <td>85.0</td>\n",
       "      <td>4980</td>\n",
       "      <td>0</td>\n",
       "      <td>0</td>\n",
       "      <td>1</td>\n",
       "      <td>0</td>\n",
       "      <td>0</td>\n",
       "      <td>0</td>\n",
       "      <td>0</td>\n",
       "      <td>0</td>\n",
       "      <td>1</td>\n",
       "      <td>0</td>\n",
       "      <td>0</td>\n",
       "    </tr>\n",
       "    <tr>\n",
       "      <th>8197</th>\n",
       "      <td>0</td>\n",
       "      <td>81.0</td>\n",
       "      <td>6238</td>\n",
       "      <td>0</td>\n",
       "      <td>0</td>\n",
       "      <td>0</td>\n",
       "      <td>1</td>\n",
       "      <td>0</td>\n",
       "      <td>0</td>\n",
       "      <td>0</td>\n",
       "      <td>0</td>\n",
       "      <td>0</td>\n",
       "      <td>1</td>\n",
       "      <td>0</td>\n",
       "    </tr>\n",
       "  </tbody>\n",
       "</table>\n",
       "</div>"
      ],
      "text/plain": [
       "       age    hp      km  model_A1  model_A2  model_A3  model_Astra  \\\n",
       "1380     2  70.0   43881         1         0         0            0   \n",
       "9276     2  51.0   57000         0         0         0            0   \n",
       "10774    2  88.0  100000         0         0         0            0   \n",
       "4496     1  85.0    4980         0         0         1            0   \n",
       "8197     0  81.0    6238         0         0         0            1   \n",
       "\n",
       "       model_Clio  model_Corsa  model_Espace  model_Insignia  \\\n",
       "1380            0            0             0               0   \n",
       "9276            0            1             0               0   \n",
       "10774           0            0             0               1   \n",
       "4496            0            0             0               0   \n",
       "8197            0            0             0               0   \n",
       "\n",
       "       gearing_type_Automatic  gearing_type_Manual  \\\n",
       "1380                        0                    1   \n",
       "9276                        0                    1   \n",
       "10774                       1                    0   \n",
       "4496                        1                    0   \n",
       "8197                        0                    1   \n",
       "\n",
       "       gearing_type_Semi-automatic  \n",
       "1380                             0  \n",
       "9276                             0  \n",
       "10774                            0  \n",
       "4496                             0  \n",
       "8197                             0  "
      ]
     },
     "execution_count": 10,
     "metadata": {},
     "output_type": "execute_result"
    }
   ],
   "source": [
    "X.sample(5)"
   ]
  },
  {
   "cell_type": "code",
   "execution_count": 11,
   "metadata": {},
   "outputs": [
    {
     "data": {
      "text/plain": [
       "array([3, 2, 1, 0], dtype=int64)"
      ]
     },
     "execution_count": 11,
     "metadata": {},
     "output_type": "execute_result"
    }
   ],
   "source": [
    "X.age.unique()"
   ]
  },
  {
   "cell_type": "code",
   "execution_count": 12,
   "metadata": {
    "id": "BSJL2gsXlzzE"
   },
   "outputs": [],
   "source": [
    "X_train, X_test, y_train, y_test = train_test_split(X, y, test_size = 0.2, random_state = 0)"
   ]
  },
  {
   "cell_type": "code",
   "execution_count": 13,
   "metadata": {
    "id": "NFJ9u622lzzE",
    "outputId": "337e697b-cbc1-463c-d2c5-49e66cba368b"
   },
   "outputs": [
    {
     "data": {
      "text/html": [
       "<style>#sk-container-id-1 {color: black;background-color: white;}#sk-container-id-1 pre{padding: 0;}#sk-container-id-1 div.sk-toggleable {background-color: white;}#sk-container-id-1 label.sk-toggleable__label {cursor: pointer;display: block;width: 100%;margin-bottom: 0;padding: 0.3em;box-sizing: border-box;text-align: center;}#sk-container-id-1 label.sk-toggleable__label-arrow:before {content: \"▸\";float: left;margin-right: 0.25em;color: #696969;}#sk-container-id-1 label.sk-toggleable__label-arrow:hover:before {color: black;}#sk-container-id-1 div.sk-estimator:hover label.sk-toggleable__label-arrow:before {color: black;}#sk-container-id-1 div.sk-toggleable__content {max-height: 0;max-width: 0;overflow: hidden;text-align: left;background-color: #f0f8ff;}#sk-container-id-1 div.sk-toggleable__content pre {margin: 0.2em;color: black;border-radius: 0.25em;background-color: #f0f8ff;}#sk-container-id-1 input.sk-toggleable__control:checked~div.sk-toggleable__content {max-height: 200px;max-width: 100%;overflow: auto;}#sk-container-id-1 input.sk-toggleable__control:checked~label.sk-toggleable__label-arrow:before {content: \"▾\";}#sk-container-id-1 div.sk-estimator input.sk-toggleable__control:checked~label.sk-toggleable__label {background-color: #d4ebff;}#sk-container-id-1 div.sk-label input.sk-toggleable__control:checked~label.sk-toggleable__label {background-color: #d4ebff;}#sk-container-id-1 input.sk-hidden--visually {border: 0;clip: rect(1px 1px 1px 1px);clip: rect(1px, 1px, 1px, 1px);height: 1px;margin: -1px;overflow: hidden;padding: 0;position: absolute;width: 1px;}#sk-container-id-1 div.sk-estimator {font-family: monospace;background-color: #f0f8ff;border: 1px dotted black;border-radius: 0.25em;box-sizing: border-box;margin-bottom: 0.5em;}#sk-container-id-1 div.sk-estimator:hover {background-color: #d4ebff;}#sk-container-id-1 div.sk-parallel-item::after {content: \"\";width: 100%;border-bottom: 1px solid gray;flex-grow: 1;}#sk-container-id-1 div.sk-label:hover label.sk-toggleable__label {background-color: #d4ebff;}#sk-container-id-1 div.sk-serial::before {content: \"\";position: absolute;border-left: 1px solid gray;box-sizing: border-box;top: 0;bottom: 0;left: 50%;z-index: 0;}#sk-container-id-1 div.sk-serial {display: flex;flex-direction: column;align-items: center;background-color: white;padding-right: 0.2em;padding-left: 0.2em;position: relative;}#sk-container-id-1 div.sk-item {position: relative;z-index: 1;}#sk-container-id-1 div.sk-parallel {display: flex;align-items: stretch;justify-content: center;background-color: white;position: relative;}#sk-container-id-1 div.sk-item::before, #sk-container-id-1 div.sk-parallel-item::before {content: \"\";position: absolute;border-left: 1px solid gray;box-sizing: border-box;top: 0;bottom: 0;left: 50%;z-index: -1;}#sk-container-id-1 div.sk-parallel-item {display: flex;flex-direction: column;z-index: 1;position: relative;background-color: white;}#sk-container-id-1 div.sk-parallel-item:first-child::after {align-self: flex-end;width: 50%;}#sk-container-id-1 div.sk-parallel-item:last-child::after {align-self: flex-start;width: 50%;}#sk-container-id-1 div.sk-parallel-item:only-child::after {width: 0;}#sk-container-id-1 div.sk-dashed-wrapped {border: 1px dashed gray;margin: 0 0.4em 0.5em 0.4em;box-sizing: border-box;padding-bottom: 0.4em;background-color: white;}#sk-container-id-1 div.sk-label label {font-family: monospace;font-weight: bold;display: inline-block;line-height: 1.2em;}#sk-container-id-1 div.sk-label-container {text-align: center;}#sk-container-id-1 div.sk-container {/* jupyter's `normalize.less` sets `[hidden] { display: none; }` but bootstrap.min.css set `[hidden] { display: none !important; }` so we also need the `!important` here to be able to override the default hidden behavior on the sphinx rendered scikit-learn.org. See: https://github.com/scikit-learn/scikit-learn/issues/21755 */display: inline-block !important;position: relative;}#sk-container-id-1 div.sk-text-repr-fallback {display: none;}</style><div id=\"sk-container-id-1\" class=\"sk-top-container\"><div class=\"sk-text-repr-fallback\"><pre>XGBRegressor(base_score=0.5, booster=&#x27;gbtree&#x27;, callbacks=None,\n",
       "             colsample_bylevel=1, colsample_bynode=1, colsample_bytree=1,\n",
       "             early_stopping_rounds=None, enable_categorical=False,\n",
       "             eval_metric=None, gamma=0, gpu_id=-1, grow_policy=&#x27;depthwise&#x27;,\n",
       "             importance_type=None, interaction_constraints=&#x27;&#x27;,\n",
       "             learning_rate=0.300000012, max_bin=256, max_cat_to_onehot=4,\n",
       "             max_delta_step=0, max_depth=6, max_leaves=0, min_child_weight=1,\n",
       "             missing=nan, monotone_constraints=&#x27;()&#x27;, n_estimators=100, n_jobs=0,\n",
       "             num_parallel_tree=1, predictor=&#x27;auto&#x27;, random_state=0, reg_alpha=0,\n",
       "             reg_lambda=1, ...)</pre><b>In a Jupyter environment, please rerun this cell to show the HTML representation or trust the notebook. <br />On GitHub, the HTML representation is unable to render, please try loading this page with nbviewer.org.</b></div><div class=\"sk-container\" hidden><div class=\"sk-item\"><div class=\"sk-estimator sk-toggleable\"><input class=\"sk-toggleable__control sk-hidden--visually\" id=\"sk-estimator-id-1\" type=\"checkbox\" checked><label for=\"sk-estimator-id-1\" class=\"sk-toggleable__label sk-toggleable__label-arrow\">XGBRegressor</label><div class=\"sk-toggleable__content\"><pre>XGBRegressor(base_score=0.5, booster=&#x27;gbtree&#x27;, callbacks=None,\n",
       "             colsample_bylevel=1, colsample_bynode=1, colsample_bytree=1,\n",
       "             early_stopping_rounds=None, enable_categorical=False,\n",
       "             eval_metric=None, gamma=0, gpu_id=-1, grow_policy=&#x27;depthwise&#x27;,\n",
       "             importance_type=None, interaction_constraints=&#x27;&#x27;,\n",
       "             learning_rate=0.300000012, max_bin=256, max_cat_to_onehot=4,\n",
       "             max_delta_step=0, max_depth=6, max_leaves=0, min_child_weight=1,\n",
       "             missing=nan, monotone_constraints=&#x27;()&#x27;, n_estimators=100, n_jobs=0,\n",
       "             num_parallel_tree=1, predictor=&#x27;auto&#x27;, random_state=0, reg_alpha=0,\n",
       "             reg_lambda=1, ...)</pre></div></div></div></div></div>"
      ],
      "text/plain": [
       "XGBRegressor(base_score=0.5, booster='gbtree', callbacks=None,\n",
       "             colsample_bylevel=1, colsample_bynode=1, colsample_bytree=1,\n",
       "             early_stopping_rounds=None, enable_categorical=False,\n",
       "             eval_metric=None, gamma=0, gpu_id=-1, grow_policy='depthwise',\n",
       "             importance_type=None, interaction_constraints='',\n",
       "             learning_rate=0.300000012, max_bin=256, max_cat_to_onehot=4,\n",
       "             max_delta_step=0, max_depth=6, max_leaves=0, min_child_weight=1,\n",
       "             missing=nan, monotone_constraints='()', n_estimators=100, n_jobs=0,\n",
       "             num_parallel_tree=1, predictor='auto', random_state=0, reg_alpha=0,\n",
       "             reg_lambda=1, ...)"
      ]
     },
     "execution_count": 13,
     "metadata": {},
     "output_type": "execute_result"
    }
   ],
   "source": [
    "xgb_model = xgboost.XGBRegressor()\n",
    "xgb_model.fit(X_train, y_train)"
   ]
  },
  {
   "cell_type": "code",
   "execution_count": 14,
   "metadata": {
    "id": "U7FTTc6XlzzE",
    "outputId": "d69eaee2-231f-4ba0-f8a2-0a03f0fd9ed9"
   },
   "outputs": [
    {
     "name": "stdout",
     "output_type": "stream",
     "text": [
      "r2_score: 0.936457237746221 \n",
      " mae: 1096.2226331303143 \n",
      " mse: 3318103.9171330337 \n",
      " rmse: 1821.5663361879067\n"
     ]
    }
   ],
   "source": [
    "y_pred = xgb_model.predict(X_test)\n",
    "eval_metrics(y_test, y_pred)"
   ]
  },
  {
   "cell_type": "code",
   "execution_count": 15,
   "metadata": {},
   "outputs": [
    {
     "data": {
      "text/html": [
       "<style>#sk-container-id-2 {color: black;background-color: white;}#sk-container-id-2 pre{padding: 0;}#sk-container-id-2 div.sk-toggleable {background-color: white;}#sk-container-id-2 label.sk-toggleable__label {cursor: pointer;display: block;width: 100%;margin-bottom: 0;padding: 0.3em;box-sizing: border-box;text-align: center;}#sk-container-id-2 label.sk-toggleable__label-arrow:before {content: \"▸\";float: left;margin-right: 0.25em;color: #696969;}#sk-container-id-2 label.sk-toggleable__label-arrow:hover:before {color: black;}#sk-container-id-2 div.sk-estimator:hover label.sk-toggleable__label-arrow:before {color: black;}#sk-container-id-2 div.sk-toggleable__content {max-height: 0;max-width: 0;overflow: hidden;text-align: left;background-color: #f0f8ff;}#sk-container-id-2 div.sk-toggleable__content pre {margin: 0.2em;color: black;border-radius: 0.25em;background-color: #f0f8ff;}#sk-container-id-2 input.sk-toggleable__control:checked~div.sk-toggleable__content {max-height: 200px;max-width: 100%;overflow: auto;}#sk-container-id-2 input.sk-toggleable__control:checked~label.sk-toggleable__label-arrow:before {content: \"▾\";}#sk-container-id-2 div.sk-estimator input.sk-toggleable__control:checked~label.sk-toggleable__label {background-color: #d4ebff;}#sk-container-id-2 div.sk-label input.sk-toggleable__control:checked~label.sk-toggleable__label {background-color: #d4ebff;}#sk-container-id-2 input.sk-hidden--visually {border: 0;clip: rect(1px 1px 1px 1px);clip: rect(1px, 1px, 1px, 1px);height: 1px;margin: -1px;overflow: hidden;padding: 0;position: absolute;width: 1px;}#sk-container-id-2 div.sk-estimator {font-family: monospace;background-color: #f0f8ff;border: 1px dotted black;border-radius: 0.25em;box-sizing: border-box;margin-bottom: 0.5em;}#sk-container-id-2 div.sk-estimator:hover {background-color: #d4ebff;}#sk-container-id-2 div.sk-parallel-item::after {content: \"\";width: 100%;border-bottom: 1px solid gray;flex-grow: 1;}#sk-container-id-2 div.sk-label:hover label.sk-toggleable__label {background-color: #d4ebff;}#sk-container-id-2 div.sk-serial::before {content: \"\";position: absolute;border-left: 1px solid gray;box-sizing: border-box;top: 0;bottom: 0;left: 50%;z-index: 0;}#sk-container-id-2 div.sk-serial {display: flex;flex-direction: column;align-items: center;background-color: white;padding-right: 0.2em;padding-left: 0.2em;position: relative;}#sk-container-id-2 div.sk-item {position: relative;z-index: 1;}#sk-container-id-2 div.sk-parallel {display: flex;align-items: stretch;justify-content: center;background-color: white;position: relative;}#sk-container-id-2 div.sk-item::before, #sk-container-id-2 div.sk-parallel-item::before {content: \"\";position: absolute;border-left: 1px solid gray;box-sizing: border-box;top: 0;bottom: 0;left: 50%;z-index: -1;}#sk-container-id-2 div.sk-parallel-item {display: flex;flex-direction: column;z-index: 1;position: relative;background-color: white;}#sk-container-id-2 div.sk-parallel-item:first-child::after {align-self: flex-end;width: 50%;}#sk-container-id-2 div.sk-parallel-item:last-child::after {align-self: flex-start;width: 50%;}#sk-container-id-2 div.sk-parallel-item:only-child::after {width: 0;}#sk-container-id-2 div.sk-dashed-wrapped {border: 1px dashed gray;margin: 0 0.4em 0.5em 0.4em;box-sizing: border-box;padding-bottom: 0.4em;background-color: white;}#sk-container-id-2 div.sk-label label {font-family: monospace;font-weight: bold;display: inline-block;line-height: 1.2em;}#sk-container-id-2 div.sk-label-container {text-align: center;}#sk-container-id-2 div.sk-container {/* jupyter's `normalize.less` sets `[hidden] { display: none; }` but bootstrap.min.css set `[hidden] { display: none !important; }` so we also need the `!important` here to be able to override the default hidden behavior on the sphinx rendered scikit-learn.org. See: https://github.com/scikit-learn/scikit-learn/issues/21755 */display: inline-block !important;position: relative;}#sk-container-id-2 div.sk-text-repr-fallback {display: none;}</style><div id=\"sk-container-id-2\" class=\"sk-top-container\"><div class=\"sk-text-repr-fallback\"><pre>RandomForestRegressor()</pre><b>In a Jupyter environment, please rerun this cell to show the HTML representation or trust the notebook. <br />On GitHub, the HTML representation is unable to render, please try loading this page with nbviewer.org.</b></div><div class=\"sk-container\" hidden><div class=\"sk-item\"><div class=\"sk-estimator sk-toggleable\"><input class=\"sk-toggleable__control sk-hidden--visually\" id=\"sk-estimator-id-2\" type=\"checkbox\" checked><label for=\"sk-estimator-id-2\" class=\"sk-toggleable__label sk-toggleable__label-arrow\">RandomForestRegressor</label><div class=\"sk-toggleable__content\"><pre>RandomForestRegressor()</pre></div></div></div></div></div>"
      ],
      "text/plain": [
       "RandomForestRegressor()"
      ]
     },
     "execution_count": 15,
     "metadata": {},
     "output_type": "execute_result"
    }
   ],
   "source": [
    "from sklearn.ensemble import RandomForestRegressor\n",
    "rf_model=RandomForestRegressor()\n",
    "rf_model.fit(X_train, y_train)"
   ]
  },
  {
   "cell_type": "code",
   "execution_count": 16,
   "metadata": {},
   "outputs": [],
   "source": [
    "y_pred2 = rf_model.predict(X_test)"
   ]
  },
  {
   "cell_type": "code",
   "execution_count": 17,
   "metadata": {},
   "outputs": [
    {
     "name": "stdout",
     "output_type": "stream",
     "text": [
      "r2_score: 0.929857923833819 \n",
      " mae: 1117.321795531725 \n",
      " mse: 3662709.7945998963 \n",
      " rmse: 1913.8207320958502\n"
     ]
    }
   ],
   "source": [
    "eval_metrics(y_test,y_pred2)"
   ]
  },
  {
   "cell_type": "markdown",
   "metadata": {},
   "source": [
    "**deployment**"
   ]
  },
  {
   "cell_type": "code",
   "execution_count": 18,
   "metadata": {},
   "outputs": [],
   "source": [
    "import pickle\n",
    "pickle.dump(xgb_model, open('xgb_model', 'wb'))\n",
    "pickle.dump(rf_model, open('rf_model', 'wb'))\n"
   ]
  },
  {
   "cell_type": "code",
   "execution_count": 19,
   "metadata": {},
   "outputs": [],
   "source": [
    "richard_model = pickle.load(open('xgb_model', 'rb'))"
   ]
  },
  {
   "cell_type": "code",
   "execution_count": 20,
   "metadata": {},
   "outputs": [
    {
     "data": {
      "text/plain": [
       "['age',\n",
       " 'hp',\n",
       " 'km',\n",
       " 'model_A1',\n",
       " 'model_A2',\n",
       " 'model_A3',\n",
       " 'model_Astra',\n",
       " 'model_Clio',\n",
       " 'model_Corsa',\n",
       " 'model_Espace',\n",
       " 'model_Insignia',\n",
       " 'gearing_type_Automatic',\n",
       " 'gearing_type_Manual',\n",
       " 'gearing_type_Semi-automatic']"
      ]
     },
     "execution_count": 20,
     "metadata": {},
     "output_type": "execute_result"
    }
   ],
   "source": [
    "columns=list(X.columns)\n",
    "columns"
   ]
  },
  {
   "cell_type": "code",
   "execution_count": 21,
   "metadata": {},
   "outputs": [],
   "source": [
    "my_dict = {\n",
    "    \"age\": 2,\n",
    "    \"hp\": 105,\n",
    "    \"km\": 100000,\n",
    "    \"model\": 'Astra',\n",
    "    \"gearing_type\":\"Automatic\"\n",
    "}"
   ]
  },
  {
   "cell_type": "code",
   "execution_count": 22,
   "metadata": {},
   "outputs": [],
   "source": [
    "df = pd.DataFrame.from_dict([my_dict])"
   ]
  },
  {
   "cell_type": "code",
   "execution_count": 23,
   "metadata": {},
   "outputs": [
    {
     "data": {
      "text/html": [
       "<div>\n",
       "<style scoped>\n",
       "    .dataframe tbody tr th:only-of-type {\n",
       "        vertical-align: middle;\n",
       "    }\n",
       "\n",
       "    .dataframe tbody tr th {\n",
       "        vertical-align: top;\n",
       "    }\n",
       "\n",
       "    .dataframe thead th {\n",
       "        text-align: right;\n",
       "    }\n",
       "</style>\n",
       "<table border=\"1\" class=\"dataframe\">\n",
       "  <thead>\n",
       "    <tr style=\"text-align: right;\">\n",
       "      <th></th>\n",
       "      <th>age</th>\n",
       "      <th>hp</th>\n",
       "      <th>km</th>\n",
       "      <th>model</th>\n",
       "      <th>gearing_type</th>\n",
       "    </tr>\n",
       "  </thead>\n",
       "  <tbody>\n",
       "    <tr>\n",
       "      <th>0</th>\n",
       "      <td>2</td>\n",
       "      <td>105</td>\n",
       "      <td>100000</td>\n",
       "      <td>Astra</td>\n",
       "      <td>Automatic</td>\n",
       "    </tr>\n",
       "  </tbody>\n",
       "</table>\n",
       "</div>"
      ],
      "text/plain": [
       "   age   hp      km  model gearing_type\n",
       "0    2  105  100000  Astra    Automatic"
      ]
     },
     "execution_count": 23,
     "metadata": {},
     "output_type": "execute_result"
    }
   ],
   "source": [
    "df.head()"
   ]
  },
  {
   "cell_type": "code",
   "execution_count": 24,
   "metadata": {},
   "outputs": [
    {
     "data": {
      "text/html": [
       "<div>\n",
       "<style scoped>\n",
       "    .dataframe tbody tr th:only-of-type {\n",
       "        vertical-align: middle;\n",
       "    }\n",
       "\n",
       "    .dataframe tbody tr th {\n",
       "        vertical-align: top;\n",
       "    }\n",
       "\n",
       "    .dataframe thead th {\n",
       "        text-align: right;\n",
       "    }\n",
       "</style>\n",
       "<table border=\"1\" class=\"dataframe\">\n",
       "  <thead>\n",
       "    <tr style=\"text-align: right;\">\n",
       "      <th></th>\n",
       "      <th>age</th>\n",
       "      <th>hp</th>\n",
       "      <th>km</th>\n",
       "      <th>model_Astra</th>\n",
       "      <th>gearing_type_Automatic</th>\n",
       "    </tr>\n",
       "  </thead>\n",
       "  <tbody>\n",
       "    <tr>\n",
       "      <th>0</th>\n",
       "      <td>2</td>\n",
       "      <td>105</td>\n",
       "      <td>100000</td>\n",
       "      <td>1</td>\n",
       "      <td>1</td>\n",
       "    </tr>\n",
       "  </tbody>\n",
       "</table>\n",
       "</div>"
      ],
      "text/plain": [
       "   age   hp      km  model_Astra  gearing_type_Automatic\n",
       "0    2  105  100000            1                       1"
      ]
     },
     "execution_count": 24,
     "metadata": {},
     "output_type": "execute_result"
    }
   ],
   "source": [
    "df = pd.get_dummies(df)\n",
    "df"
   ]
  },
  {
   "cell_type": "code",
   "execution_count": 25,
   "metadata": {},
   "outputs": [],
   "source": [
    "df = pd.get_dummies(df).reindex(columns=columns, fill_value=0)"
   ]
  },
  {
   "cell_type": "code",
   "execution_count": 26,
   "metadata": {},
   "outputs": [
    {
     "data": {
      "text/html": [
       "<div>\n",
       "<style scoped>\n",
       "    .dataframe tbody tr th:only-of-type {\n",
       "        vertical-align: middle;\n",
       "    }\n",
       "\n",
       "    .dataframe tbody tr th {\n",
       "        vertical-align: top;\n",
       "    }\n",
       "\n",
       "    .dataframe thead th {\n",
       "        text-align: right;\n",
       "    }\n",
       "</style>\n",
       "<table border=\"1\" class=\"dataframe\">\n",
       "  <thead>\n",
       "    <tr style=\"text-align: right;\">\n",
       "      <th></th>\n",
       "      <th>age</th>\n",
       "      <th>hp</th>\n",
       "      <th>km</th>\n",
       "      <th>model_A1</th>\n",
       "      <th>model_A2</th>\n",
       "      <th>model_A3</th>\n",
       "      <th>model_Astra</th>\n",
       "      <th>model_Clio</th>\n",
       "      <th>model_Corsa</th>\n",
       "      <th>model_Espace</th>\n",
       "      <th>model_Insignia</th>\n",
       "      <th>gearing_type_Automatic</th>\n",
       "      <th>gearing_type_Manual</th>\n",
       "      <th>gearing_type_Semi-automatic</th>\n",
       "    </tr>\n",
       "  </thead>\n",
       "  <tbody>\n",
       "    <tr>\n",
       "      <th>0</th>\n",
       "      <td>2</td>\n",
       "      <td>105</td>\n",
       "      <td>100000</td>\n",
       "      <td>0</td>\n",
       "      <td>0</td>\n",
       "      <td>0</td>\n",
       "      <td>1</td>\n",
       "      <td>0</td>\n",
       "      <td>0</td>\n",
       "      <td>0</td>\n",
       "      <td>0</td>\n",
       "      <td>1</td>\n",
       "      <td>0</td>\n",
       "      <td>0</td>\n",
       "    </tr>\n",
       "  </tbody>\n",
       "</table>\n",
       "</div>"
      ],
      "text/plain": [
       "   age   hp      km  model_A1  model_A2  model_A3  model_Astra  model_Clio  \\\n",
       "0    2  105  100000         0         0         0            1           0   \n",
       "\n",
       "   model_Corsa  model_Espace  model_Insignia  gearing_type_Automatic  \\\n",
       "0            0             0               0                       1   \n",
       "\n",
       "   gearing_type_Manual  gearing_type_Semi-automatic  \n",
       "0                    0                            0  "
      ]
     },
     "execution_count": 26,
     "metadata": {},
     "output_type": "execute_result"
    }
   ],
   "source": [
    "df.head()"
   ]
  },
  {
   "cell_type": "code",
   "execution_count": 27,
   "metadata": {},
   "outputs": [
    {
     "name": "stdout",
     "output_type": "stream",
     "text": [
      "[13536.63]\n"
     ]
    }
   ],
   "source": [
    "prediction = richard_model.predict(df)\n",
    "print(prediction)"
   ]
  },
  {
   "cell_type": "code",
   "execution_count": 28,
   "metadata": {},
   "outputs": [
    {
     "name": "stdout",
     "output_type": "stream",
     "text": [
      "The estimated price of your car is €13536. \n"
     ]
    }
   ],
   "source": [
    "print(\"The estimated price of your car is €{}. \".format(int(prediction[0])))"
   ]
  }
 ],
 "metadata": {
  "colab": {
   "collapsed_sections": [],
   "name": "modeling_auto_scout.ipynb",
   "provenance": []
  },
  "kernelspec": {
   "display_name": "Python 3.9.8 ('new_env': venv)",
   "language": "python",
   "name": "python3"
  },
  "language_info": {
   "codemirror_mode": {
    "name": "ipython",
    "version": 3
   },
   "file_extension": ".py",
   "mimetype": "text/x-python",
   "name": "python",
   "nbconvert_exporter": "python",
   "pygments_lexer": "ipython3",
   "version": "3.9.8"
  },
  "vscode": {
   "interpreter": {
    "hash": "87d43df728a90fa413efa0a17e2f5e941dcf5938dc9672a85312ce4eb28e91a6"
   }
  }
 },
 "nbformat": 4,
 "nbformat_minor": 4
}
